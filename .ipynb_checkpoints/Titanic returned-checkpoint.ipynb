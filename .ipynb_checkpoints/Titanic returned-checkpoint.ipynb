{
 "cells": [
  {
   "cell_type": "code",
   "execution_count": 1,
   "metadata": {},
   "outputs": [
    {
     "data": {
      "text/html": [
       "<div>\n",
       "<style scoped>\n",
       "    .dataframe tbody tr th:only-of-type {\n",
       "        vertical-align: middle;\n",
       "    }\n",
       "\n",
       "    .dataframe tbody tr th {\n",
       "        vertical-align: top;\n",
       "    }\n",
       "\n",
       "    .dataframe thead th {\n",
       "        text-align: right;\n",
       "    }\n",
       "</style>\n",
       "<table border=\"1\" class=\"dataframe\">\n",
       "  <thead>\n",
       "    <tr style=\"text-align: right;\">\n",
       "      <th></th>\n",
       "      <th>PassengerId</th>\n",
       "      <th>Survived</th>\n",
       "      <th>Pclass</th>\n",
       "      <th>Name</th>\n",
       "      <th>Sex</th>\n",
       "      <th>Age</th>\n",
       "      <th>SibSp</th>\n",
       "      <th>Parch</th>\n",
       "      <th>Ticket</th>\n",
       "      <th>Fare</th>\n",
       "      <th>Cabin</th>\n",
       "      <th>Embarked</th>\n",
       "    </tr>\n",
       "  </thead>\n",
       "  <tbody>\n",
       "    <tr>\n",
       "      <th>0</th>\n",
       "      <td>1</td>\n",
       "      <td>0</td>\n",
       "      <td>3</td>\n",
       "      <td>Braund, Mr. Owen Harris</td>\n",
       "      <td>male</td>\n",
       "      <td>22.0</td>\n",
       "      <td>1</td>\n",
       "      <td>0</td>\n",
       "      <td>A/5 21171</td>\n",
       "      <td>7.2500</td>\n",
       "      <td>NaN</td>\n",
       "      <td>S</td>\n",
       "    </tr>\n",
       "    <tr>\n",
       "      <th>1</th>\n",
       "      <td>2</td>\n",
       "      <td>1</td>\n",
       "      <td>1</td>\n",
       "      <td>Cumings, Mrs. John Bradley (Florence Briggs Th...</td>\n",
       "      <td>female</td>\n",
       "      <td>38.0</td>\n",
       "      <td>1</td>\n",
       "      <td>0</td>\n",
       "      <td>PC 17599</td>\n",
       "      <td>71.2833</td>\n",
       "      <td>C85</td>\n",
       "      <td>C</td>\n",
       "    </tr>\n",
       "    <tr>\n",
       "      <th>2</th>\n",
       "      <td>3</td>\n",
       "      <td>1</td>\n",
       "      <td>3</td>\n",
       "      <td>Heikkinen, Miss. Laina</td>\n",
       "      <td>female</td>\n",
       "      <td>26.0</td>\n",
       "      <td>0</td>\n",
       "      <td>0</td>\n",
       "      <td>STON/O2. 3101282</td>\n",
       "      <td>7925.0000</td>\n",
       "      <td>NaN</td>\n",
       "      <td>S</td>\n",
       "    </tr>\n",
       "    <tr>\n",
       "      <th>3</th>\n",
       "      <td>4</td>\n",
       "      <td>1</td>\n",
       "      <td>1</td>\n",
       "      <td>Futrelle, Mrs. Jacques Heath (Lily May Peel)</td>\n",
       "      <td>female</td>\n",
       "      <td>35.0</td>\n",
       "      <td>1</td>\n",
       "      <td>0</td>\n",
       "      <td>113803</td>\n",
       "      <td>53.1000</td>\n",
       "      <td>C123</td>\n",
       "      <td>S</td>\n",
       "    </tr>\n",
       "    <tr>\n",
       "      <th>4</th>\n",
       "      <td>5</td>\n",
       "      <td>0</td>\n",
       "      <td>3</td>\n",
       "      <td>Allen, Mr. William Henry</td>\n",
       "      <td>male</td>\n",
       "      <td>35.0</td>\n",
       "      <td>0</td>\n",
       "      <td>0</td>\n",
       "      <td>373450</td>\n",
       "      <td>8.0500</td>\n",
       "      <td>NaN</td>\n",
       "      <td>S</td>\n",
       "    </tr>\n",
       "  </tbody>\n",
       "</table>\n",
       "</div>"
      ],
      "text/plain": [
       "   PassengerId  Survived  Pclass  \\\n",
       "0            1         0       3   \n",
       "1            2         1       1   \n",
       "2            3         1       3   \n",
       "3            4         1       1   \n",
       "4            5         0       3   \n",
       "\n",
       "                                                Name     Sex   Age  SibSp  \\\n",
       "0                            Braund, Mr. Owen Harris    male  22.0      1   \n",
       "1  Cumings, Mrs. John Bradley (Florence Briggs Th...  female  38.0      1   \n",
       "2                             Heikkinen, Miss. Laina  female  26.0      0   \n",
       "3       Futrelle, Mrs. Jacques Heath (Lily May Peel)  female  35.0      1   \n",
       "4                           Allen, Mr. William Henry    male  35.0      0   \n",
       "\n",
       "   Parch            Ticket       Fare Cabin Embarked  \n",
       "0      0         A/5 21171     7.2500   NaN        S  \n",
       "1      0          PC 17599    71.2833   C85        C  \n",
       "2      0  STON/O2. 3101282  7925.0000   NaN        S  \n",
       "3      0            113803    53.1000  C123        S  \n",
       "4      0            373450     8.0500   NaN        S  "
      ]
     },
     "execution_count": 1,
     "metadata": {},
     "output_type": "execute_result"
    }
   ],
   "source": [
    "#Import libraries\n",
    "\n",
    "import pandas as pd\n",
    "import numpy as np\n",
    "import matplotlib.pyplot as plt\n",
    "from collections import Counter\n",
    "import math\n",
    "from sklearn.preprocessing import LabelEncoder\n",
    "\n",
    "%matplotlib inline\n",
    "\n",
    "df_train = pd.read_csv('train.csv')\n",
    "df_test = pd.read_csv('test.csv')\n",
    "\n",
    "df_train.head()"
   ]
  },
  {
   "cell_type": "markdown",
   "metadata": {},
   "source": [
    "# Encontrando Padrões iniciais\n",
    "\n",
    "Nessa etapa irei fazer a visualização inicial dos dados."
   ]
  },
  {
   "cell_type": "code",
   "execution_count": 2,
   "metadata": {},
   "outputs": [
    {
     "name": "stdout",
     "output_type": "stream",
     "text": [
      "<class 'pandas.core.frame.DataFrame'>\n",
      "RangeIndex: 891 entries, 0 to 890\n",
      "Data columns (total 12 columns):\n",
      "PassengerId    891 non-null int64\n",
      "Survived       891 non-null int64\n",
      "Pclass         891 non-null int64\n",
      "Name           891 non-null object\n",
      "Sex            891 non-null object\n",
      "Age            714 non-null float64\n",
      "SibSp          891 non-null int64\n",
      "Parch          891 non-null int64\n",
      "Ticket         891 non-null object\n",
      "Fare           891 non-null float64\n",
      "Cabin          204 non-null object\n",
      "Embarked       889 non-null object\n",
      "dtypes: float64(2), int64(5), object(5)\n",
      "memory usage: 83.6+ KB\n"
     ]
    }
   ],
   "source": [
    "df_train.info()"
   ]
  },
  {
   "cell_type": "markdown",
   "metadata": {},
   "source": [
    "A partir dessas informações obtidas os itens que estão faltando é: age, cabin e embarked."
   ]
  },
  {
   "cell_type": "markdown",
   "metadata": {},
   "source": [
    "Antes de fazer a limpeza nos dados, vou comparar algumas features(colunas) com o target(Survived)"
   ]
  },
  {
   "cell_type": "code",
   "execution_count": 3,
   "metadata": {},
   "outputs": [
    {
     "data": {
      "image/png": "[encoded data removed]",
      "text/plain": [
       "<Figure size 720x360 with 1 Axes>"
      ]
     },
     "metadata": {
      "needs_background": "light"
     },
     "output_type": "display_data"
    },
    {
     "name": "stdout",
     "output_type": "stream",
     "text": [
      "Sobreviventes: \n",
      " primeira classe -> 136 \n",
      " segunda classe -> 87 \n",
      " terceira classe -> 119 \n",
      " Total -> 342 \n",
      "\n",
      "Não Sobreviventes: \n",
      " primeira classe -> 80 \n",
      " segunda classe -> 97 \n",
      " terceira classe -> 372 \n",
      " Total -> 549\n"
     ]
    }
   ],
   "source": [
    "''' \n",
    "    Começaremos vizualizando o comportamento em relação com a target para encontrar padrões que podem nos ajudar posteriormente\n",
    "e eliminar aqueles que não influencia na nossa visualização. Não vamos considerar ainda features do tipo string nem que estejam\n",
    "incompletas.\n",
    "'''\n",
    "\n",
    "### Feature Pclass\n",
    "# 1 -> primeira classe; 2 -> segunda classe; 3 -> terceira classe\n",
    "\n",
    "#Separando-os em dataframes diferentes para comparação\n",
    "df_1 = df_train.query('Pclass == \"1\"')\n",
    "df_2 = df_train.query('Pclass == \"2\"')\n",
    "df_3 = df_train.query('Pclass == \"3\"')\n",
    "\n",
    "#Pegando a quantidade de quem sobreviveu e morreu.\n",
    "aux0 = Counter(df_1['Survived'])\n",
    "aux1 = Counter(df_2['Survived'])\n",
    "aux2 = Counter(df_3['Survived'])\n",
    "\n",
    "'''\n",
    "    O retorno da função Counter é um dicionário, nesse momento estou transformando em um array numpy para posteriormente \n",
    "falicitar as operações com esses vetores.\n",
    "'''\n",
    "prim = np.array(aux0.values())\n",
    "sec = np.array(aux1.values())\n",
    "terc = np.array(aux2.values())\n",
    "\n",
    "\n",
    "classe = ['Não Sobreviveu','Sobreviveu']\n",
    "\n",
    "# Criando as barras\n",
    "plt.figure(figsize=(10,5)) #Ajustando o tamanho do gráfico\n",
    "plt.bar(classe,prim, color = 'blue')\n",
    "plt.bar(classe,sec, color = 'green', bottom = prim)\n",
    "plt.bar(classe,terc, color = 'yellow', bottom = prim + sec)\n",
    "\n",
    "#Criando as legendas\n",
    "plt.xlabel('Estado dos passageiros')\n",
    "plt.ylabel('Quantidade de pessoas')\n",
    "plt.title('Grafico que relaciona o tipo de embarque')\n",
    "plt.legend(('1 classe','2 classe','3 classe'))\n",
    "\n",
    "plt.show()\n",
    "\n",
    "# Para ficar melhor a visualização, imprimirei os valores relacionados a cada 1.\n",
    "print('Sobreviventes: \\n primeira classe -> {} \\n segunda classe -> {} \\n terceira classe -> {} \\n Total -> {} \\n'.format(prim[1],sec[1],terc[1],(prim[1]+sec[1]+terc[1])))\n",
    "print('Não Sobreviventes: \\n primeira classe -> {} \\n segunda classe -> {} \\n terceira classe -> {} \\n Total -> {}'.format(prim[0],sec[0],terc[0],(prim[0]+sec[0]+terc[0])))"
   ]
  },
  {
   "attachments": {
    "Classes.gif": {
     "image/gif": "[encoded data removed]"
    }
   },
   "cell_type": "markdown",
   "metadata": {},
   "source": [
    "Conclusão sobre os dados obtidos:\n",
    "\n",
    "Taxa de sobrevivência primeira classe: 62,9%, segunda classe: 47,28%, terceira classe: 24,23%.\n",
    "\n",
    "Como podemos concluir a primeira classe teve a maior taxa de sobrevivência, e isso se deve pela sua posição de ospedagem em relação aos demais passageiros como veremos na imagem abaixo.\n",
    "\n",
    "![Classes.gif](attachment:Classes.gif)\n",
    "\n",
    ">De cor azul estão representados os aposentos dos passageiros de primeira classe que ocupavam os 5 decks superiores, de verde os passageiros de 2 classe que ocupavam B,C,D,E,F mais posterios do convés e os passageiros de 3 classe em amarelo estavam presentes tanto na polpa quanto mais no meio do navio.\n",
    "\n",
    "\n",
    "Obs: Uma observação que temos relato é que os passageiros estavam relutantes em entrar nos botes no primeiro instante principalmente os passageiros da primeira classe e isso demorou um pouco para mudar. Mas mesmo que todos os passageiros quisessem embarcar nos botes, a quantidade era insuficientes e ainda foram mal utilizados pois não utilizaram toda a capacidade de lotação do bote tendo como exemplo o primeiro bote lançado, o bote 7, tendo capacidade de 65 passageiros e foi abaixado com apenas 28 passageiros."
   ]
  },
  {
   "cell_type": "code",
   "execution_count": 4,
   "metadata": {},
   "outputs": [
    {
     "data": {
      "image/png": "[encoded data removed]",
      "text/plain": [
       "<Figure size 720x360 with 1 Axes>"
      ]
     },
     "metadata": {
      "needs_background": "light"
     },
     "output_type": "display_data"
    },
    {
     "name": "stdout",
     "output_type": "stream",
     "text": [
      "Sobreviventes: \n",
      " Homem -> 109 \n",
      " Mulher -> 233 \n",
      " Total -> 342 \n",
      "\n",
      "Não Sobreviventes: \n",
      " Homem -> 468 \n",
      " Mulher -> 81 \n",
      " Total -> 549 \n",
      "\n"
     ]
    }
   ],
   "source": [
    "### Feature Sex\n",
    "\n",
    "# Male e Female\n",
    "\n",
    "#Separando-os em dataframes diferentes para comparação\n",
    "df_m = df_train.query('Sex == \"male\"')\n",
    "df_f = df_train.query('Sex == \"female\"')\n",
    "\n",
    "\n",
    "#Pegando a quantidade de quem sobreviveu e morreu entre os homens e mulheres.\n",
    "auxm = Counter(df_m['Survived'])\n",
    "auxf = Counter(df_f['Survived'])\n",
    "\n",
    "male = np.array(auxm.values())\n",
    "female = np.array(auxf.values())\n",
    "\n",
    "# Criando as barras\n",
    "plt.figure(figsize=(10,5)) #Ajustando o tamanho do gráfico\n",
    "plt.bar(classe,male, color = 'red')\n",
    "plt.bar(classe,female, color = 'blue', bottom = male)\n",
    "\n",
    "#Criando as legendas\n",
    "plt.xlabel('Estado dos passageiros')\n",
    "plt.ylabel('Quantidade de pessoas')\n",
    "plt.title('Grafico que relaciona o sexo dos passageiros')\n",
    "plt.legend(('Homem','Mulher'))\n",
    "\n",
    "plt.show()\n",
    "\n",
    "# Para ficar melhor a visualização, imprimirei os valores relacionados a cada 1.\n",
    "print('Sobreviventes: \\n Homem -> {} \\n Mulher -> {} \\n Total -> {} \\n'.format(male[1],female[1],(male[1]+female[1])))\n",
    "print('Não Sobreviventes: \\n Homem -> {} \\n Mulher -> {} \\n Total -> {} \\n'.format(male[0],female[0],(male[0]+female[0])))"
   ]
  },
  {
   "cell_type": "markdown",
   "metadata": {},
   "source": [
    "Conclusão sobre essa análise:\n",
    "\n",
    "Taxa de sobrevivencia de homens é 18,89% e mulheres 74,2%.\n",
    "\n",
    "Como podemos observar os homens foram os que mais morreram em relação as mulheres. Um dos motivos que tem-se registro histórico é que as mulheres e crianças tinham prioridade em relação aos homens a embarcar nos botes que iriam ser usados para o resgate."
   ]
  },
  {
   "cell_type": "markdown",
   "metadata": {},
   "source": [
    "# Data Analysis\n",
    "\n",
    "Inicialmente esses foram os padrões encontrados analisando essas features, Sex e Pclass, mas agora nesse momento irei iniciar o tratamento das outras Features para determinar outros padrões importantes."
   ]
  },
  {
   "cell_type": "markdown",
   "metadata": {},
   "source": [
    "### Missing Data\n",
    "\n",
    "Os dados ausentes são coisas que sempre devemos tomar cuidado, pois, sua presença pode ocasionar predições incorretas no final da nossa modelagem se não forem bem tratados, então vamos nos ater cuidadosamente em cuidar desse detalhe."
   ]
  },
  {
   "cell_type": "code",
   "execution_count": 12,
   "metadata": {},
   "outputs": [
    {
     "name": "stdout",
     "output_type": "stream",
     "text": [
      "Banco de dados Treino \n",
      "\n",
      "Na coluna Age existem 177 dados ausentes.\n",
      "Na coluna Cabin existem 687 dados ausentes.\n",
      "Na coluna Embarked existem 2 dados ausentes.\n",
      "\n",
      " \n",
      "\n",
      "Banco de dados Teste \n",
      "\n",
      "Na coluna Age existem 86 dados ausentes.\n",
      "Na coluna Fare existem 1 dados ausentes.\n",
      "Na coluna Cabin existem 327 dados ausentes.\n"
     ]
    }
   ],
   "source": [
    "## Vamos analisar ambos os bancos de dados para encontrar dados faltantes\n",
    "\n",
    "def missingData(df,n):\n",
    "    if n == 1:\n",
    "        print('Banco de dados Treino \\n')\n",
    "        for i in df:\n",
    "            if df[i].isnull().sum() > 0:\n",
    "                print('Na coluna {} existem {} dados ausentes.'.format(i,df[i].isnull().sum()))\n",
    "        print('\\n \\n')\n",
    "    elif n == 2:\n",
    "        print('Banco de dados Teste \\n')\n",
    "        for i in df:\n",
    "            if df[i].isnull().sum() > 0:\n",
    "                print('Na coluna {} existem {} dados ausentes.'.format(i,df[i].isnull().sum()))\n",
    "        \n",
    "\n",
    "# Banco de dados Treino\n",
    "missingData(df_train,1)\n",
    "\n",
    "#Baanco de dados Teste\n",
    "missingData(df_test,2)"
   ]
  },
  {
   "cell_type": "markdown",
   "metadata": {},
   "source": [
    "### Embarked\n",
    "\n",
    "Iniciaremos tratando os valores ausentes da feature Embarked."
   ]
  },
  {
   "cell_type": "code",
   "execution_count": 31,
   "metadata": {},
   "outputs": [
    {
     "data": {
      "image/png": "[encoded data removed]",
      "text/plain": [
       "<Figure size 432x288 with 1 Axes>"
      ]
     },
     "metadata": {
      "needs_background": "light"
     },
     "output_type": "display_data"
    }
   ],
   "source": [
    "# Plotando o gráfico que representa a quantidade de cada forma de viagem pelos passageiros\n",
    "\n",
    "plt.plot(df_train['Embarked'].value_counts(), 'go'); #Bolinha verde\n",
    "plt.plot(df_train['Embarked'].value_counts(), 'k:', color='orange'); #Gráfico de linha pontilhado laranja\n",
    "\n",
    "plt.title('Onde embarcou cada passageiro')\n",
    "plt.ylabel('Quantidade')\n",
    "plt.xlabel('Onde embarcou');\n",
    "\n",
    "''' \n",
    "Como podemos ver existe uma grande quantidade de pessoas que embarcaram em Southampton, então acrescentando essas pessoas que\n",
    "\n",
    "'''\n",
    "\n",
    "# Obs: tentar encontrar padrão onde as pessoas embarcaram e sua classe se foi 1,2 ou 3 classe."
   ]
  },
  {
   "cell_type": "code",
   "execution_count": null,
   "metadata": {},
   "outputs": [],
   "source": []
  }
 ],
 "metadata": {
  "kernelspec": {
   "display_name": "Python 2",
   "language": "python",
   "name": "python2"
  },
  "language_info": {
   "codemirror_mode": {
    "name": "ipython",
    "version": 2
   },
   "file_extension": ".py",
   "mimetype": "text/x-python",
   "name": "python",
   "nbconvert_exporter": "python",
   "pygments_lexer": "ipython2",
   "version": "2.7.15"
  }
 },
 "nbformat": 4,
 "nbformat_minor": 2
}
